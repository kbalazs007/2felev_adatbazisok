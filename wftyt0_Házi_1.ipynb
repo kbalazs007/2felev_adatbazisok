{
    "metadata": {
        "kernelspec": {
            "name": "SQL",
            "display_name": "SQL",
            "language": "sql"
        },
        "language_info": {
            "name": "sql",
            "version": ""
        }
    },
    "nbformat_minor": 2,
    "nbformat": 4,
    "cells": [
        {
            "cell_type": "markdown",
            "source": [
                "> <span style=\"color: var(--vscode-foreground);\">1. Megmutatja havonta összesen hány darab 30 és 700 közötti árral rendelkező terméket vittek fel, azok átlagos árát, aminek a nevében szerepel a papír karakterlánc</span>"
            ],
            "metadata": {
                "language": "sql",
                "azdata_cell_guid": "d9c2a6b2-1d56-424d-8b64-0f6ad3513393"
            },
            "attachments": {}
        },
        {
            "cell_type": "code",
            "source": [
                "SELECT MONTH(FELVITEL) AS 'Hónap',\r\n",
                "    COUNT(MEGNEVEZES) AS 'Papír termék',\r\n",
                "    ROUND(AVG(LISTAAR),2) AS 'Átlagos ár'\r\n",
                "FROM Termek\r\n",
                "WHERE MEGNEVEZES LIKE ('%papír%')\r\n",
                "    AND LISTAAR BETWEEN 30 AND 700\r\n",
                "GROUP BY MONTH(FELVITEL)"
            ],
            "metadata": {
                "azdata_cell_guid": "981ca274-0c88-49e0-93bf-450fa847f3a7",
                "language": "sql",
                "tags": []
            },
            "outputs": [],
            "execution_count": null
        },
        {
            "cell_type": "markdown",
            "source": [
                "> 2\\. Azon termékek listaárának az átlaga, felviteli naponként, kronológia szerint, melyek csomag mennyiségben vittek föl"
            ],
            "metadata": {
                "language": "sql",
                "azdata_cell_guid": "05c38eec-b8c5-4e11-98ea-c3bc87c9770b"
            },
            "attachments": {}
        },
        {
            "cell_type": "code",
            "source": [
                "SELECT FELVITEL AS 'Felvitel napja',\r\n",
                "    ROUND(AVG(LISTAAR),2) AS 'Átlagár'\r\n",
                "FROM Termek\r\n",
                "WHERE MEGYS LIKE ('csomag')\r\n",
                "GROUP BY FELVITEL\r\n",
                "ORDER BY [FELVITEL]"
            ],
            "metadata": {
                "azdata_cell_guid": "b31c90fe-b34c-48a0-9de7-4b5dc13665f8",
                "language": "sql",
                "tags": []
            },
            "outputs": [],
            "execution_count": null
        },
        {
            "cell_type": "markdown",
            "source": [
                "> 3\\. Az összes olyan termék, amelynek kategória azonosítója 90 és 120 között van, készlete 1000 alatt, és Béla vitte fel"
            ],
            "metadata": {
                "language": "sql",
                "azdata_cell_guid": "c0098edc-ebf9-452e-9004-9cc19fd14a8c"
            },
            "attachments": {}
        },
        {
            "cell_type": "code",
            "source": [
                "SELECT KAT_ID AS 'Kategórai azonosító',\r\n",
                "    KESZLET AS 'Készletmennyiség',\r\n",
                "    FELVITTE AS 'Felvivő'\r\n",
                "FROM Termek\r\n",
                "WHERE KAT_ID BETWEEN 90 AND 120\r\n",
                "    AND KESZLET < 1000\r\n",
                "    AND FELVITTE = 'Béla'"
            ],
            "metadata": {
                "azdata_cell_guid": "957a2670-1add-48c6-9a12-cc9171c846c6",
                "language": "sql",
                "tags": []
            },
            "outputs": [],
            "execution_count": null
        },
        {
            "cell_type": "markdown",
            "source": [
                "> 4\\. Minimum, átlag és maximum készletmennyiség a 3000 alatti listaárú termékek esetén"
            ],
            "metadata": {
                "language": "sql",
                "azdata_cell_guid": "5a5e876e-826d-4548-9396-f65e42dc51eb"
            },
            "attachments": {}
        },
        {
            "cell_type": "code",
            "source": [
                "SELECT MIN(KESZLET) AS 'Minimum készlet',\r\n",
                "    ROUND(AVG(KESZLET),2) AS 'Átlag készlet',\r\n",
                "    MAX(KESZLET) AS 'Maximum készlet'\r\n",
                "FROM Termek\r\n",
                "WHERE LISTAAR < 3000"
            ],
            "metadata": {
                "azdata_cell_guid": "c3686a64-57fd-4430-b578-7f66398f843b",
                "language": "sql",
                "tags": []
            },
            "outputs": [],
            "execution_count": null
        },
        {
            "cell_type": "markdown",
            "source": [
                "> 5\\. Megadja a rekordok számát, a leírásokon belül a kitöltötteket és a NULL értékűeket, valamint megadja, a rekordok hány százalékában lett kitöltve a leírás"
            ],
            "metadata": {
                "language": "sql",
                "azdata_cell_guid": "beab1172-fa04-4269-ac5e-59c88ba0db0d"
            },
            "attachments": {}
        },
        {
            "cell_type": "code",
            "source": [
                "SELECT COUNT(*) AS 'Rekordok száma',\r\n",
                "    COUNT(LEIRAS) AS 'Leírások száma',\r\n",
                "    COUNT(TERMEKKOD) - COUNT(LEIRAS) AS 'NULL leírás száma',\r\n",
                "    ROUND((COUNT(LEIRAS)*100.0)/(COUNT(*)), 2) AS 'Megadott leírások %-a' -- 100.0-val szoroztam, hogy az osztás utáni tört érték ne vesszen el\r\n",
                "FROM Termek\r\n",
                ""
            ],
            "metadata": {
                "azdata_cell_guid": "37444bfb-3231-402d-a279-ff7a7e90641f",
                "language": "sql"
            },
            "outputs": [],
            "execution_count": null
        }
    ]
}