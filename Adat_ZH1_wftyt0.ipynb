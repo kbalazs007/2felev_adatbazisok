{
    "metadata": {
        "kernelspec": {
            "name": "SQL",
            "display_name": "SQL",
            "language": "sql"
        },
        "language_info": {
            "name": "sql",
            "version": ""
        }
    },
    "nbformat_minor": 2,
    "nbformat": 4,
    "cells": [
        {
            "cell_type": "code",
            "source": [
                "--- 1. feladat\r\n",
                "SELECT TIPUS, ROUND(AVG(CSILLAGOK_SZAMA), 0) \r\n",
                "FROM Szallashely\r\n",
                "GROUP BY TIPUS\r\n",
                "HAVING AVG(CSILLAGOK_SZAMA) >= 3 AND TIPUS <> 'panzió'\r\n",
                ""
            ],
            "metadata": {
                "azdata_cell_guid": "bf6128a7-c28e-41e4-b424-0924e16c72a8",
                "language": "sql",
                "tags": []
            },
            "outputs": [
                {
                    "output_type": "display_data",
                    "data": {
                        "text/html": "(1 row affected)"
                    },
                    "metadata": {}
                },
                {
                    "output_type": "display_data",
                    "data": {
                        "text/html": "Total execution time: 00:00:00.006"
                    },
                    "metadata": {}
                },
                {
                    "output_type": "execute_result",
                    "metadata": {},
                    "execution_count": 13,
                    "data": {
                        "application/vnd.dataresource+json": {
                            "schema": {
                                "fields": [
                                    {
                                        "name": "TIPUS"
                                    },
                                    {
                                        "name": "(No column name)"
                                    }
                                ]
                            },
                            "data": [
                                {
                                    "TIPUS": "Hotel",
                                    "(No column name)": "3"
                                }
                            ]
                        },
                        "text/html": [
                            "<table>",
                            "<tr><th>TIPUS</th><th>(No column name)</th></tr>",
                            "<tr><td>Hotel</td><td>3</td></tr>",
                            "</table>"
                        ]
                    }
                }
            ],
            "execution_count": 13
        },
        {
            "cell_type": "code",
            "source": [
                "---\r\n",
                "SELECT SZALLAS_NEV, COUNT(FOGLALAS_PK) AS 'Foglalások száma'\r\n",
                "FROM szallashely szal JOIN Szoba szob ON szal.SZALLAS_ID = szob.SZALLAS_FK\r\n",
                "        JOIN Foglalas fog ON szob.SZOBA_ID = fog.SZOBA_FK\r\n",
                "GROUP BY SZALLAS_NEV\r\n",
                "\r\n",
                "UNION\r\n",
                "\r\n",
                "SELECT SZALLAS_NEV, COUNT(FOGLALAS_PK) AS 'Foglalások száma'\r\n",
                "FROM szallashely szal JOIN Szoba szob ON szal.SZALLAS_ID = szob.SZALLAS_FK\r\n",
                "        JOIN Foglalas fog ON szob.SZOBA_ID = fog.SZOBA_FK\r\n",
                "GROUP BY SZALLAS_NEV\r\n",
                "HAVING COUNT(FOGLALAS_PK) = 0"
            ],
            "metadata": {
                "azdata_cell_guid": "3cf71e66-cb12-4955-b709-93aaa0c66715",
                "language": "sql"
            },
            "outputs": [
                {
                    "output_type": "display_data",
                    "data": {
                        "text/html": "(11 rows affected)"
                    },
                    "metadata": {}
                },
                {
                    "output_type": "display_data",
                    "data": {
                        "text/html": "Total execution time: 00:00:00.017"
                    },
                    "metadata": {}
                },
                {
                    "output_type": "execute_result",
                    "execution_count": 18,
                    "data": {
                        "application/vnd.dataresource+json": {
                            "schema": {
                                "fields": [
                                    {
                                        "name": "SZALLAS_NEV"
                                    },
                                    {
                                        "name": "Foglalások száma"
                                    }
                                ]
                            },
                            "data": [
                                {
                                    "SZALLAS_NEV": "Családi Ház",
                                    "Foglalások száma": "18"
                                },
                                {
                                    "SZALLAS_NEV": "Fortuna Apartman",
                                    "Foglalások száma": "39"
                                },
                                {
                                    "SZALLAS_NEV": "Fortuna panzió",
                                    "Foglalások száma": "126"
                                },
                                {
                                    "SZALLAS_NEV": "Gold Hotel",
                                    "Foglalások száma": "179"
                                },
                                {
                                    "SZALLAS_NEV": "Hotel Három Hattyú",
                                    "Foglalások száma": "204"
                                },
                                {
                                    "SZALLAS_NEV": "Jáde panzió",
                                    "Foglalások száma": "29"
                                },
                                {
                                    "SZALLAS_NEV": "Kentaur Hotel",
                                    "Foglalások száma": "179"
                                },
                                {
                                    "SZALLAS_NEV": "Lagúna Hotel",
                                    "Foglalások száma": "123"
                                },
                                {
                                    "SZALLAS_NEV": "Partiszél Vendégház",
                                    "Foglalások száma": "26"
                                },
                                {
                                    "SZALLAS_NEV": "Sába-Ház",
                                    "Foglalások száma": "70"
                                },
                                {
                                    "SZALLAS_NEV": "Szieszta Apartmanház",
                                    "Foglalások száma": "34"
                                }
                            ]
                        },
                        "text/html": "<table><tr><th>SZALLAS_NEV</th><th>Foglalások száma</th></tr><tr><td>Családi Ház</td><td>18</td></tr><tr><td>Fortuna Apartman</td><td>39</td></tr><tr><td>Fortuna panzió</td><td>126</td></tr><tr><td>Gold Hotel</td><td>179</td></tr><tr><td>Hotel Három Hattyú</td><td>204</td></tr><tr><td>Jáde panzió</td><td>29</td></tr><tr><td>Kentaur Hotel</td><td>179</td></tr><tr><td>Lagúna Hotel</td><td>123</td></tr><tr><td>Partiszél Vendégház</td><td>26</td></tr><tr><td>Sába-Ház</td><td>70</td></tr><tr><td>Szieszta Apartmanház</td><td>34</td></tr></table>"
                    },
                    "metadata": {}
                }
            ],
            "execution_count": 18
        }
    ]
}